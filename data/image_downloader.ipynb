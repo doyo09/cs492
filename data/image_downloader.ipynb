{
 "cells": [
  {
   "cell_type": "code",
   "execution_count": 11,
   "metadata": {},
   "outputs": [
    {
     "name": "stdout",
     "output_type": "stream",
     "text": [
      "21\n"
     ]
    }
   ],
   "source": [
    "import os \n",
    "import urllib.request \n",
    "\n",
    "from PIL import Image\n",
    "from PIL import ImageFile\n",
    "\n",
    "def download(n = 20):\n",
    "    ImageFile.LOAD_TRUNCATED_IMAGES = True\n",
    "\n",
    "    fileroot = '/home/dykim/cs492/data/' #set your location\n",
    "    metafile = 'kaist_naver_prod200k_class265_meta_alldata.txt'\n",
    "\n",
    "    temp_folder = os.path.join(fileroot,'temp')\n",
    "    savefolder = os.path.join(fileroot,'images')\n",
    "    nFilecnt = 0\n",
    "\n",
    "    if not os.path.exists(temp_folder): os.makedirs(temp_folder)\n",
    "    if not os.path.exists(savefolder): os.makedirs(savefolder)\n",
    "\n",
    "    with open(os.path.join(fileroot,metafile), 'r') as rf:\n",
    "        for idx, line in (enumerate(rf)):\n",
    "            if idx ==0:\n",
    "                continue  # skip firts line\n",
    "\n",
    "            # step1. load meta inforation\n",
    "            instance = line.split('\\t')[0]\n",
    "            img_urls = line.split('\\t')[1]\n",
    "            save_filename =  line.split('\\t')[2].split('\\n')[0]\n",
    "\n",
    "            # step2. download image to temporal folder \n",
    "            tempfilepath = os.path.join(temp_folder, save_filename )\n",
    "            urllib.request.urlretrieve(img_urls, tempfilepath)\n",
    "\n",
    "            # step3. load temporal down loaded image \n",
    "            img = Image.open(tempfilepath)    \n",
    "            img = img.convert(\"RGB\")\n",
    "\n",
    "            # step4. save images\n",
    "            finalfilepath = os.path.join(savefolder, save_filename )\n",
    "            img.save(finalfilepath, 'jpeg') \n",
    "            nFilecnt += 1    \n",
    "\n",
    "            # step5. remove temporally saved image\n",
    "            os.remove(tempfilepath)        \n",
    "            \n",
    "            if idx == n+1 :\n",
    "                break\n",
    "        \n",
    "        \n",
    "        \n",
    "    print(nFilecnt )\n",
    "\n",
    "download(n=20)"
   ]
  },
  {
   "cell_type": "code",
   "execution_count": null,
   "metadata": {},
   "outputs": [],
   "source": []
  }
 ],
 "metadata": {
  "kernelspec": {
   "display_name": "pytorch_py3",
   "language": "python",
   "name": "pytorch_py3"
  },
  "language_info": {
   "codemirror_mode": {
    "name": "ipython",
    "version": 3
   },
   "file_extension": ".py",
   "mimetype": "text/x-python",
   "name": "python",
   "nbconvert_exporter": "python",
   "pygments_lexer": "ipython3",
   "version": "3.7.3"
  }
 },
 "nbformat": 4,
 "nbformat_minor": 4
}
